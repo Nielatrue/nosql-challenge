{
 "cells": [
  {
   "cell_type": "markdown",
   "id": "468a5fce",
   "metadata": {},
   "source": [
    "# Eat Safe, Love"
   ]
  },
  {
   "cell_type": "markdown",
   "id": "064ef857",
   "metadata": {},
   "source": [
    "## Notebook Set Up"
   ]
  },
  {
   "cell_type": "code",
   "execution_count": 1,
   "id": "3ecdd008",
   "metadata": {},
   "outputs": [],
   "source": [
    "# Import dependencies\n",
    "from pymongo import MongoClient\n",
    "from pprint import pprint\n",
    "import pandas as pd\n",
    "from pprint import pprint"
   ]
  },
  {
   "cell_type": "code",
   "execution_count": 2,
   "id": "59390c4a",
   "metadata": {},
   "outputs": [],
   "source": [
    "# Create an instance of MongoClient\n",
    "mongo = MongoClient(port=27017)"
   ]
  },
  {
   "cell_type": "code",
   "execution_count": 3,
   "id": "71e373c1",
   "metadata": {},
   "outputs": [],
   "source": [
    "# assign the uk_food database to a variable name\n",
    "uk_food_db = mongo['uk_food']"
   ]
  },
  {
   "cell_type": "code",
   "execution_count": 4,
   "id": "18ab463c",
   "metadata": {},
   "outputs": [
    {
     "name": "stdout",
     "output_type": "stream",
     "text": [
      "['establishments']\n"
     ]
    }
   ],
   "source": [
    "# review the collections in our database\n",
    "print(uk_food_db.list_collection_names())"
   ]
  },
  {
   "cell_type": "code",
   "execution_count": 5,
   "id": "11c9f11b",
   "metadata": {},
   "outputs": [],
   "source": [
    "# assign the collection to a variable\n",
    "establishments = uk_food_db['establishments']"
   ]
  },
  {
   "cell_type": "markdown",
   "id": "d5671434",
   "metadata": {},
   "source": [
    "## Part 3: Exploratory Analysis\n",
    "Unless otherwise stated, for each question: \n",
    "* Use `count_documents` to display the number of documents contained in the result.\n",
    "* Display the first document in the results using `pprint`.\n",
    "* Convert the result to a Pandas DataFrame, print the number of rows in the DataFrame, and display the first 10 rows."
   ]
  },
  {
   "cell_type": "markdown",
   "id": "314bd884",
   "metadata": {},
   "source": [
    "### 1. Which establishments have a hygiene score equal to 20?"
   ]
  },
  {
   "cell_type": "code",
   "execution_count": 9,
   "id": "c2da7648",
   "metadata": {},
   "outputs": [
    {
     "name": "stdout",
     "output_type": "stream",
     "text": [
      "number of establishments with a hygiene score of 20: 0\n",
      "\n",
      "e.g of establishments with a hygiene score of 20:\n",
      "\n",
      "<pymongo.cursor.Cursor object at 0x000001F7C23CE090>\n"
     ]
    }
   ],
   "source": [
    "# Find the establishments with a hygiene score of 20\n",
    "query = {'scores.Hygiene': {'$eq': 20}}\n",
    "results = establishments.find(query)\n",
    "\n",
    "# Use count_documents to display the number of documents in the result\n",
    "count_results = establishments.count_documents(query)\n",
    "print(f'number of establishments with a hygiene score of 20: {count_results}')\n",
    "\n",
    "\n",
    "# Display the first document in the results using pprint\n",
    "establishments.count_documents({})\n",
    "\n",
    "print()\n",
    "print(\"e.g of establishments with a hygiene score of 20:\")\n",
    "print()\n",
    "pprint(results)"
   ]
  },
  {
   "cell_type": "code",
   "execution_count": 7,
   "id": "a6e5cece",
   "metadata": {},
   "outputs": [
    {
     "name": "stdout",
     "output_type": "stream",
     "text": [
      "Rows in DataFrame:  0\n"
     ]
    },
    {
     "data": {
      "text/html": [
       "<div>\n",
       "<style scoped>\n",
       "    .dataframe tbody tr th:only-of-type {\n",
       "        vertical-align: middle;\n",
       "    }\n",
       "\n",
       "    .dataframe tbody tr th {\n",
       "        vertical-align: top;\n",
       "    }\n",
       "\n",
       "    .dataframe thead th {\n",
       "        text-align: right;\n",
       "    }\n",
       "</style>\n",
       "<table border=\"1\" class=\"dataframe\">\n",
       "  <thead>\n",
       "    <tr style=\"text-align: right;\">\n",
       "      <th></th>\n",
       "    </tr>\n",
       "  </thead>\n",
       "  <tbody>\n",
       "  </tbody>\n",
       "</table>\n",
       "</div>"
      ],
      "text/plain": [
       "Empty DataFrame\n",
       "Columns: []\n",
       "Index: []"
      ]
     },
     "execution_count": 7,
     "metadata": {},
     "output_type": "execute_result"
    }
   ],
   "source": [
    "# Convert the result to a Pandas DataFrame\n",
    "hygiene_20 = establishments.find(query)\n",
    "hygiene_20_df = pd.DataFrame(hygiene_20)\n",
    "\n",
    "# Display the number of rows in the DataFrame\n",
    "print(\"Rows in DataFrame: \", len(hygiene_20_df))\n",
    "\n",
    "\n",
    "hygiene_20_df.head(10)"
   ]
  },
  {
   "cell_type": "markdown",
   "id": "0ef4395a",
   "metadata": {},
   "source": [
    "### 2. Which establishments in London have a `RatingValue` greater than or equal to 4?"
   ]
  },
  {
   "cell_type": "code",
   "execution_count": 16,
   "id": "93c63829",
   "metadata": {},
   "outputs": [
    {
     "name": "stdout",
     "output_type": "stream",
     "text": [
      "Number of documents in result: 0\n"
     ]
    },
    {
     "ename": "IndexError",
     "evalue": "no such item for Cursor instance",
     "output_type": "error",
     "traceback": [
      "\u001b[1;31m---------------------------------------------------------------------------\u001b[0m",
      "\u001b[1;31mIndexError\u001b[0m                                Traceback (most recent call last)",
      "Cell \u001b[1;32mIn[16], line 13\u001b[0m\n\u001b[0;32m      8\u001b[0m \u001b[38;5;66;03m# Display the first document in the results using pprint\u001b[39;00m\n\u001b[0;32m      9\u001b[0m \u001b[38;5;66;03m#pprint(\"First document:\")\u001b[39;00m\n\u001b[0;32m     10\u001b[0m \u001b[38;5;66;03m#london_results = establishments.find(london_query) = establishments.find(query_london)\u001b[39;00m\n\u001b[0;32m     11\u001b[0m \u001b[38;5;66;03m# pretty print the first document\u001b[39;00m\n\u001b[0;32m     12\u001b[0m \u001b[38;5;28;01mfor\u001b[39;00m i \u001b[38;5;129;01min\u001b[39;00m \u001b[38;5;28mrange\u001b[39m(\u001b[38;5;241m1\u001b[39m):\n\u001b[1;32m---> 13\u001b[0m     pprint(london_results[i])\n",
      "File \u001b[1;32m~\\anaconda3\\Lib\\site-packages\\pymongo\\cursor.py:694\u001b[0m, in \u001b[0;36mCursor.__getitem__\u001b[1;34m(self, index)\u001b[0m\n\u001b[0;32m    692\u001b[0m     \u001b[38;5;28;01mfor\u001b[39;00m doc \u001b[38;5;129;01min\u001b[39;00m clone:\n\u001b[0;32m    693\u001b[0m         \u001b[38;5;28;01mreturn\u001b[39;00m doc\n\u001b[1;32m--> 694\u001b[0m     \u001b[38;5;28;01mraise\u001b[39;00m \u001b[38;5;167;01mIndexError\u001b[39;00m(\u001b[38;5;124m\"\u001b[39m\u001b[38;5;124mno such item for Cursor instance\u001b[39m\u001b[38;5;124m\"\u001b[39m)\n\u001b[0;32m    695\u001b[0m \u001b[38;5;28;01mraise\u001b[39;00m \u001b[38;5;167;01mTypeError\u001b[39;00m(\u001b[38;5;124m\"\u001b[39m\u001b[38;5;124mindex \u001b[39m\u001b[38;5;132;01m%r\u001b[39;00m\u001b[38;5;124m cannot be applied to Cursor \u001b[39m\u001b[38;5;124m\"\u001b[39m\n\u001b[0;32m    696\u001b[0m                 \u001b[38;5;124m\"\u001b[39m\u001b[38;5;124minstances\u001b[39m\u001b[38;5;124m\"\u001b[39m \u001b[38;5;241m%\u001b[39m index)\n",
      "\u001b[1;31mIndexError\u001b[0m: no such item for Cursor instance"
     ]
    }
   ],
   "source": [
    "# Find the establishments with London as the Local Authority and has a RatingValue greater than or equal to 4.\n",
    "london_query = {'LocalAuthorityName':{'$regex':'London'}, 'RatingValue':{'$gte':'4'}}\n",
    "london_results = establishments.find(london_query)\n",
    "\n",
    "# Use count_documents to display the number of documents in the result\n",
    "print(\"Number of documents in result:\", establishments.count_documents(london_query))\n",
    "\n",
    "# Display the first document in the results using pprint\n",
    "#pprint(\"First document:\")\n",
    "#london_results = establishments.find(london_query) = establishments.find(query_london)\n",
    "# pretty print the first document\n",
    "for i in range(1):\n",
    "    pprint(london_results[i])"
   ]
  },
  {
   "cell_type": "code",
   "execution_count": 17,
   "id": "07e24ccb",
   "metadata": {},
   "outputs": [
    {
     "name": "stdout",
     "output_type": "stream",
     "text": [
      "Rows in DataFrame:  0\n"
     ]
    },
    {
     "data": {
      "text/html": [
       "<div>\n",
       "<style scoped>\n",
       "    .dataframe tbody tr th:only-of-type {\n",
       "        vertical-align: middle;\n",
       "    }\n",
       "\n",
       "    .dataframe tbody tr th {\n",
       "        vertical-align: top;\n",
       "    }\n",
       "\n",
       "    .dataframe thead th {\n",
       "        text-align: right;\n",
       "    }\n",
       "</style>\n",
       "<table border=\"1\" class=\"dataframe\">\n",
       "  <thead>\n",
       "    <tr style=\"text-align: right;\">\n",
       "      <th></th>\n",
       "    </tr>\n",
       "  </thead>\n",
       "  <tbody>\n",
       "  </tbody>\n",
       "</table>\n",
       "</div>"
      ],
      "text/plain": [
       "Empty DataFrame\n",
       "Columns: []\n",
       "Index: []"
      ]
     },
     "execution_count": 17,
     "metadata": {},
     "output_type": "execute_result"
    }
   ],
   "source": [
    "# Convert the result to a Pandas DataFrame\n",
    "london_results_df = pd.DataFrame(london_results)\n",
    "# Display the number of rows in the DataFrame\n",
    "print(\"Rows in DataFrame: \", len(london_results_df))\n",
    "# Display the first 10 rows of the DataFrame\n",
    "london_results_df.head(10)"
   ]
  },
  {
   "cell_type": "markdown",
   "id": "4e570caf",
   "metadata": {},
   "source": [
    "### 3. What are the top 5 establishments with a `RatingValue` rating value of 5, sorted by lowest hygiene score, nearest to the new restaurant added, \"Penang Flavours\"?"
   ]
  },
  {
   "cell_type": "code",
   "execution_count": 21,
   "id": "7f599f3d",
   "metadata": {},
   "outputs": [
    {
     "name": "stdout",
     "output_type": "stream",
     "text": [
      "[]\n"
     ]
    }
   ],
   "source": [
    "# Search within 0.01 degree on either side of the latitude and longitude.\n",
    "# Rating value must equal 5\n",
    "# Sort by hygiene score\n",
    "\n",
    "degree_search = 0.01\n",
    "latitude =  51.49014200\n",
    "longitude = 0.08384000\n",
    "\n",
    "within_query = {'RatingValue': {'$eq': '5'},\n",
    "         'geocode.longitude': {'$gt':(longitude-degree_search),'$lt':(longitude+degree_search)},\n",
    "         'geocode.latitude': {'$gt':(latitude-degree_search), '$lt':(latitude+degree_search)}\n",
    "         }\n",
    "sort = [('scores.Hygiene', -1)]\n",
    "limit = 5\n",
    "\n",
    "\n",
    "# Print the results\n",
    "within_result = (list(establishments.find(within_query).sort(sort).limit(limit)))\n",
    "pprint(within_result)"
   ]
  },
  {
   "cell_type": "code",
   "execution_count": 23,
   "id": "a6ad16f7",
   "metadata": {},
   "outputs": [
    {
     "name": "stdout",
     "output_type": "stream",
     "text": [
      "<pymongo.cursor.Cursor object at 0x000001F7C23CE090>\n"
     ]
    }
   ],
   "source": [
    "# Convert result to Pandas DataFrame\n",
    "london_results_df = pd.DataFrame(london_results)\n",
    "pprint(results)"
   ]
  },
  {
   "cell_type": "markdown",
   "id": "67281254",
   "metadata": {},
   "source": [
    "### 4. How many establishments in each Local Authority area have a hygiene score of 0?"
   ]
  },
  {
   "cell_type": "code",
   "execution_count": 39,
   "id": "4eeb227e",
   "metadata": {},
   "outputs": [
    {
     "name": "stdout",
     "output_type": "stream",
     "text": [
      "Rows in DataFrame:  0\n",
      "\n",
      "[]\n"
     ]
    }
   ],
   "source": [
    "# Create a pipeline that: \n",
    "# 1. Matches establishments with a hygiene score of 0\n",
    "match_query = {'$match': {'scores.Hygiene': {'$eq':0}}}\n",
    "\n",
    "# 2. Groups the matches by Local Authority\n",
    "group_query = {'$group': {'_id':'$LocalAuthorityName', 'count':{'$sum': 1 }}}\n",
    "\n",
    "# 3. Sorts the matches from highest to lowest\n",
    "sort_values = {'$sort': {'count':-1}}\n",
    "\n",
    "\n",
    "# Print the number of documents in the result\n",
    "pipeline = [match_query, group_query, sort_values]\n",
    "results = list(establishments.aggregate(pipeline))\n",
    "print(\"Rows in DataFrame: \", len(results))\n",
    "print()\n",
    "\n",
    "# Print the first 10 results\n",
    "pprint(results[0:10])"
   ]
  },
  {
   "cell_type": "code",
   "execution_count": 40,
   "id": "d8aab364",
   "metadata": {},
   "outputs": [
    {
     "name": "stdout",
     "output_type": "stream",
     "text": [
      "Rows in DataFrame:  0\n"
     ]
    },
    {
     "data": {
      "text/html": [
       "<div>\n",
       "<style scoped>\n",
       "    .dataframe tbody tr th:only-of-type {\n",
       "        vertical-align: middle;\n",
       "    }\n",
       "\n",
       "    .dataframe tbody tr th {\n",
       "        vertical-align: top;\n",
       "    }\n",
       "\n",
       "    .dataframe thead th {\n",
       "        text-align: right;\n",
       "    }\n",
       "</style>\n",
       "<table border=\"1\" class=\"dataframe\">\n",
       "  <thead>\n",
       "    <tr style=\"text-align: right;\">\n",
       "      <th></th>\n",
       "    </tr>\n",
       "  </thead>\n",
       "  <tbody>\n",
       "  </tbody>\n",
       "</table>\n",
       "</div>"
      ],
      "text/plain": [
       "Empty DataFrame\n",
       "Columns: []\n",
       "Index: []"
      ]
     },
     "execution_count": 40,
     "metadata": {},
     "output_type": "execute_result"
    }
   ],
   "source": [
    "# Convert the result to a Pandas DataFrame\n",
    "result_df = pd.DataFrame(results)\n",
    "# Display the number of rows in the DataFrame\n",
    "print(\"Rows in DataFrame: \", len(result_df))\n",
    "\n",
    "# Display the first 10 rows of the DataFrame\n",
    "result_df.head(10)"
   ]
  }
 ],
 "metadata": {
  "kernelspec": {
   "display_name": "Python 3 (ipykernel)",
   "language": "python",
   "name": "python3"
  },
  "language_info": {
   "codemirror_mode": {
    "name": "ipython",
    "version": 3
   },
   "file_extension": ".py",
   "mimetype": "text/x-python",
   "name": "python",
   "nbconvert_exporter": "python",
   "pygments_lexer": "ipython3",
   "version": "3.11.4"
  }
 },
 "nbformat": 4,
 "nbformat_minor": 5
}
